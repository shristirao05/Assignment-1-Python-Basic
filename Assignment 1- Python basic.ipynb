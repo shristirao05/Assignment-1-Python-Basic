{
 "cells": [
  {
   "cell_type": "markdown",
   "id": "f6880322-c573-4801-a572-dea3b44d309e",
   "metadata": {},
   "source": [
    "THEORY QUESTIONS"
   ]
  },
  {
   "cell_type": "markdown",
   "id": "28587709-fd48-447e-aa26-0735978008c5",
   "metadata": {},
   "source": [
    "Question 1:  What is Python, and why is it popular ?\n",
    "\n",
    "Answer:\n",
    "Python is a computer programming language that is used to build websites, apps, games, do data analysis, and much more. It is very easy to understand because its code looks like normal English, which makes it beginner-friendly.\n",
    "It is popular because it can be used in many areas like web development, machine learning, artificial intelligence, and data science. Also, Python has a huge collection of free tools and libraries, which saves time for programmers. Its simple syntax and strong community support make it one of the top choices for coders around the world."
   ]
  },
  {
   "cell_type": "markdown",
   "id": "4704ffa6-3bc4-4c3d-827f-b38b3f4e1442",
   "metadata": {},
   "source": [
    "Question 2: What is an interpreter in Python ?\n",
    "\n",
    "Answer:\n",
    "An interpreter in Python is a special program that reads and runs the Python code line by line. It checks one line at a time and shows the result immediately. If there’s a mistake in any line, it stops right there and shows an error.\n",
    "This makes it easy for beginners to test and fix their code quickly, which is one reason why learning Python feels simple and smooth."
   ]
  },
  {
   "cell_type": "markdown",
   "id": "542d32f0-35ac-4dce-94f6-599a63d58564",
   "metadata": {},
   "source": [
    "Question 3:  What are pre-defined keywords in Python ?\n",
    "\n",
    "Answer: \n",
    "Pre-defined keywords in Python are special words that have a fixed meaning and use in the language. For example, words like if, for, while, True, and def are keywords. We can't change their meaning, and they are used to write code correctly."
   ]
  },
  {
   "cell_type": "markdown",
   "id": "e9561f7a-a172-42aa-9ede-0b5f1ecdc9aa",
   "metadata": {},
   "source": [
    "Question 4: Can keywords be used as variable names ?\n",
    "\n",
    "Answer: \n",
    "No, we cannot use keywords as variable names because they are already reserved for specific purposes in Python. If we try to use them as variable names, Python will show an error."
   ]
  },
  {
   "cell_type": "markdown",
   "id": "6d97c4af-9fb3-40c9-bc37-35683ece986e",
   "metadata": {},
   "source": [
    "Question 5: What is mutability in Python ?\n",
    "\n",
    "Answer: \n",
    "Mutability means whether we can change the value of an object after it is created. If an object can be changed, it is called mutable. If not, it is called immutable."
   ]
  },
  {
   "cell_type": "markdown",
   "id": "c1e70145-9aa6-4d34-830a-f80967ab58ac",
   "metadata": {},
   "source": [
    "Question 6: Why are lists mutable, but tuples are immutable ?\n",
    "\n",
    "Answer: \n",
    "Lists are mutable because we can change, add, or remove items in a list after creating it. Tuples are immutable, which means once we create a tuple, we can't change its content. Python made it this way to keep tuples safe and unchangeable when needed."
   ]
  },
  {
   "cell_type": "markdown",
   "id": "b9c4091e-c067-4290-9f43-0787d1f5fdd2",
   "metadata": {},
   "source": [
    "Question 7: What is the difference between “==” and “is” operators in Python ?\n",
    "\n",
    "Answer: \n",
    "The == operator checks if two values are equal, even if they are stored in different places.\n",
    "The is operator checks if two variables are pointing to the exact same object in memory.\n",
    "Example:\n",
    "a = [1, 2]  \n",
    "b = [1, 2]  \n",
    "a == b  # True, because values are same  \n",
    "a is b # False, because they are different objects"
   ]
  },
  {
   "cell_type": "markdown",
   "id": "bcc890fb-e542-48d0-bc2c-5c31bdf3b257",
   "metadata": {},
   "source": [
    "Question 8: What are logical operators in Python ?\n",
    "\n",
    "Answer: \n",
    "Logical operators are used to combine two or more conditions. Python has three main logical operators:\n",
    "\n",
    "and → True only if both conditions are True\n",
    "or → True if at least one condition is True\n",
    "not → Reverses the condition (True becomes False, and vice versa)"
   ]
  },
  {
   "cell_type": "markdown",
   "id": "b3869ca5-63b0-491c-a0e9-62c8fd6807d6",
   "metadata": {},
   "source": [
    "Question 9:  What is type casting in Python ?\n",
    "\n",
    "Answer: \n",
    "Type casting means changing one data type into another. For example, changing a number into a string or a float into an integer. It helps when we want to mix different data types in a program."
   ]
  },
  {
   "cell_type": "markdown",
   "id": "c5774e84-99c1-4878-8281-ca93f5a13b6c",
   "metadata": {},
   "source": [
    "Question 10: What is the difference between implicit and explicit type casting ?\n",
    "\n",
    "Answer: \n",
    "Implicit casting happens automatically by Python when it needs to.\n",
    "Example: 3 + 4.5 → Python changes 3 to 3.0 automatically.\n",
    "\n",
    "Explicit casting is when we do it ourselves using functions like int(), str(), or float().\n",
    "Example: int(4.8) → This will give 4."
   ]
  },
  {
   "cell_type": "markdown",
   "id": "b481e0eb-b748-4026-be53-277da4f626b4",
   "metadata": {},
   "source": [
    "Question 11: What is the purpose of conditional statements in Python ?\n",
    "\n",
    "Answer: \n",
    "Conditional statements are used to make decisions in a program. They help the program choose what to do next based on some condition. For example, if a person is older than 18, then allow them to vote."
   ]
  },
  {
   "cell_type": "markdown",
   "id": "bda513a0-d8af-491c-815e-3900c6c39ee0",
   "metadata": {},
   "source": [
    "Question 12: How does the elif statement work ?\n",
    "\n",
    "Answer: \n",
    "The elif (else if) statement is used when we have more than one condition to check. It comes after if and before else. Python checks the if first, then the elif, and finally the else if no condition is true.\n",
    "Example:\n",
    "if marks >= 90:\n",
    "    print(\"Excellent\")\n",
    "elif marks >= 75:\n",
    "    print(\"Good\")\n",
    "else:\n",
    "    print(\"Try harder\")"
   ]
  },
  {
   "cell_type": "markdown",
   "id": "2936cb8b-fc4d-4e3e-97a7-edc00166a0c1",
   "metadata": {},
   "source": [
    "Question 13: What is the difference between for and while loops ?\n",
    "\n",
    "Answer: \n",
    "A for loop is used when we know exactly how many times we want to repeat something.\n",
    "A while loop is used when we don’t know the number of times, and we want the loop to continue as long as a condition is true."
   ]
  },
  {
   "cell_type": "markdown",
   "id": "f881e123-fe54-4349-a4bf-565955945c67",
   "metadata": {},
   "source": [
    "Question 14: Describe a scenario where a while loop is more suitable than a for loop ?\n",
    "\n",
    "Answer: \n",
    "Let’s say we are asking a user to enter the correct password. We don’t know how many tries they will take, so we keep asking until they enter the right password. In this case, a while loop is better because we want the loop to continue until the correct input is given."
   ]
  },
  {
   "cell_type": "markdown",
   "id": "8f007c17-c295-49a3-b55a-e2260f0bbfb9",
   "metadata": {},
   "source": [
    "PRACTICAL QUESTIONS"
   ]
  },
  {
   "cell_type": "code",
   "execution_count": 1,
   "id": "2d41932c-c5ed-4423-aae9-1dc454e948c1",
   "metadata": {},
   "outputs": [
    {
     "name": "stdout",
     "output_type": "stream",
     "text": [
      "Hello, World!\n"
     ]
    }
   ],
   "source": [
    "# Question 1: Write a Python program to print \"Hello, World!\"\n",
    "\n",
    "#Code: \n",
    "print(\"Hello, World!\")"
   ]
  },
  {
   "cell_type": "code",
   "execution_count": 2,
   "id": "9ecf716e-1364-4a35-8d1f-b0c60666c5c3",
   "metadata": {},
   "outputs": [
    {
     "name": "stdout",
     "output_type": "stream",
     "text": [
      "My name is Shristi Rao\n",
      "I am 20 years old\n"
     ]
    }
   ],
   "source": [
    "# Question 2: Write a Python program that displays your name and age.\n",
    "\n",
    "#Code: \n",
    "name = \"Shristi Rao\"\n",
    "age = 20\n",
    "\n",
    "print(\"My name is\", name)\n",
    "print(\"I am\", age, \"years old\")"
   ]
  },
  {
   "cell_type": "code",
   "execution_count": 3,
   "id": "f1cf8834-1d51-4ee1-bdfa-c1ad8ac8d4a3",
   "metadata": {},
   "outputs": [
    {
     "name": "stdout",
     "output_type": "stream",
     "text": [
      "The list of Python keywords is:\n",
      "['False', 'None', 'True', 'and', 'as', 'assert', 'async', 'await', 'break', 'class', 'continue', 'def', 'del', 'elif', 'else', 'except', 'finally', 'for', 'from', 'global', 'if', 'import', 'in', 'is', 'lambda', 'nonlocal', 'not', 'or', 'pass', 'raise', 'return', 'try', 'while', 'with', 'yield']\n"
     ]
    }
   ],
   "source": [
    "# Question 3: Write code to print all the pre-defined keywords in Python using the keyword library\n",
    "\n",
    "#Code: \n",
    "import keyword\n",
    "\n",
    "print(\"The list of Python keywords is:\")\n",
    "print(keyword.kwlist)"
   ]
  },
  {
   "cell_type": "code",
   "execution_count": null,
   "id": "8229462c-3d8a-4c45-8cd7-2665ebe049d6",
   "metadata": {},
   "outputs": [],
   "source": [
    "# Question 4: Write a program that checks if a given word is a Python keyword.\n",
    "\n",
    "#Code: \n",
    "import keyword\n",
    "\n",
    "word = input(\"Enter a word: \")\n",
    "\n",
    "if keyword.iskeyword(word):\n",
    "    print(f\"'{word}' is a Python keyword.\")\n",
    "else:\n",
    "    print(f\"'{word}' is not a Python keyword.\")"
   ]
  },
  {
   "cell_type": "code",
   "execution_count": null,
   "id": "e4867e6b-2d48-444e-a918-5238549de931",
   "metadata": {},
   "outputs": [],
   "source": [
    "# Question 5: Create a list and tuple in Python, and demonstrate how attempting to change an element works differently for each.\n",
    "\n",
    "#Code: \n",
    "my_list = [10, 20, 30]\n",
    "my_tuple = (10, 20, 30)\n",
    "\n",
    "print(\"Original list:\", my_list)\n",
    "my_list[1] = 99  \n",
    "print(\"Modified list:\", my_list)\n",
    "\n",
    "print(\"Original tuple:\", my_tuple)\n",
    "my_tuple[1] = 99 #gives error\n",
    "\n",
    "print(\"Modified tuple:\", my_tuple)"
   ]
  },
  {
   "cell_type": "code",
   "execution_count": null,
   "id": "d110ebe7-eb3e-40e0-bb70-7efec1ca2d90",
   "metadata": {},
   "outputs": [],
   "source": [
    "# Question 6: Write a function to demonstrate the behavior of mutable and immutable arguments.\n",
    "\n",
    "#Code: \n",
    "def modify_values(num, num_list):\n",
    "    num += 10           \n",
    "    num_list.append(99) \n",
    "    print(\"Inside function:\")\n",
    "    print(\"Number:\", num)\n",
    "    print(\"List:\", num_list)\n",
    "\n",
    "original_num = 5\n",
    "original_list = [1, 2, 3]\n",
    "\n",
    "print(\"Before function call:\")\n",
    "print(\"Number:\", original_num)\n",
    "print(\"List:\", original_list)\n",
    "\n",
    "modify_values(original_num, original_list)\n",
    "\n",
    "print(\"After function call:\")\n",
    "print(\"Number:\", original_num)\n",
    "print(\"List:\", original_list)"
   ]
  },
  {
   "cell_type": "code",
   "execution_count": null,
   "id": "3d2f4b95-3f40-4b12-afc4-9a979545ad81",
   "metadata": {},
   "outputs": [],
   "source": [
    "# Question 7: Write a program that performs basic arithmetic operations on two user-input numbers.\n",
    "\n",
    "#Code: \n",
    "num1 = float(input(\"Enter the first number: \"))\n",
    "num2 = float(input(\"Enter the second number: \"))\n",
    "\n",
    "addition = num1 + num2\n",
    "subtraction = num1 - num2\n",
    "multiplication = num1 * num2\n",
    "\n",
    "if num2 != 0:\n",
    "    division = num1 / num2\n",
    "    modulus = num1 % num2\n",
    "else:\n",
    "    division = \"Undefined (cannot divide by zero)\"\n",
    "    modulus = \"Undefined (cannot divide by zero)\"\n",
    "\n",
    "print(\"\\nResults:\")\n",
    "print(\"Addition:\", addition)\n",
    "print(\"Subtraction:\", subtraction)\n",
    "print(\"Multiplication:\", multiplication)\n",
    "print(\"Division:\", division)\n",
    "print(\"Modulus:\", modulus)"
   ]
  },
  {
   "cell_type": "code",
   "execution_count": null,
   "id": "c4b5081e-8928-4b6b-b7dc-a8a4d4c3f217",
   "metadata": {},
   "outputs": [],
   "source": [
    "# Question 8: Write a program to demonstrate the use of logical operators.\n",
    "\n",
    "#Code: \n",
    "age = int(input(\"Enter your age: \"))\n",
    "has_id = input(\"Do you have a valid ID? (yes/no): \")\n",
    "\n",
    "if age >= 18 and has_id.lower() == \"yes\":\n",
    "    print(\"You are allowed to enter.\")\n",
    "else:\n",
    "    print(\"You are not allowed to enter.\")\n",
    "\n",
    "day = input(\"\\nIs it a holiday or weekend? (yes/no): \")\n",
    "if day.lower() == \"yes\" or age < 10:\n",
    "    print(\"You get free entry!\")\n",
    "else:\n",
    "    print(\"You need to buy a ticket.\")\n",
    "\n",
    "is_member = input(\"\\nAre you a club member? (yes/no): \")\n",
    "if not is_member.lower() == \"yes\":\n",
    "    print(\"You need to register first.\")\n",
    "else:\n",
    "    print(\"Welcome, member!\")"
   ]
  },
  {
   "cell_type": "code",
   "execution_count": null,
   "id": "31b412e4-d6ca-4c38-8bb4-b89d8352a943",
   "metadata": {},
   "outputs": [],
   "source": [
    "# Question 9: Write a Python program to convert user input from string to integer, float, and boolean types.\n",
    "\n",
    "#Code: \n",
    "user_input = input(\"Enter any value: \")\n",
    "\n",
    "try:\n",
    "    int_value = int(user_input)\n",
    "    print(\"Integer value:\", int_value)\n",
    "except ValueError:\n",
    "    print(\"Cannot convert to integer.\")\n",
    "\n",
    "try:\n",
    "    float_value = float(user_input)\n",
    "    print(\"Float value:\", float_value)\n",
    "except ValueError:\n",
    "    print(\"Cannot convert to float.\")\n",
    "\n",
    "bool_value = bool(user_input)\n",
    "print(\"Boolean value:\", bool_value)"
   ]
  },
  {
   "cell_type": "code",
   "execution_count": null,
   "id": "b7ee3d68-a7b6-4c3b-a2bd-d8d53d0aeb7a",
   "metadata": {},
   "outputs": [],
   "source": [
    "# Question 10: Write code to demonstrate type casting with list elements.\n",
    "\n",
    "#Code: \n",
    "str_list = [\"10\", \"20\", \"30\", \"40.5\", \"50.6\"]\n",
    "\n",
    "int_list = []\n",
    "for item in str_list:\n",
    "    try:\n",
    "        int_list.append(int(float(item)))  \n",
    "    except ValueError:\n",
    "        print(f\"Cannot convert '{item}' to integer\")\n",
    "\n",
    "float_list = []\n",
    "for item in str_list:\n",
    "    try:\n",
    "        float_list.append(float(item))\n",
    "    except ValueError:\n",
    "        print(f\"Cannot convert '{item}' to float\")\n",
    "\n",
    "print(\"Original list (strings):\", str_list)\n",
    "print(\"List after converting to integers:\", int_list)\n",
    "print(\"List after converting to floats:\", float_list)"
   ]
  },
  {
   "cell_type": "code",
   "execution_count": null,
   "id": "3e0074e2-69d3-472a-8e35-e82312ae2e42",
   "metadata": {},
   "outputs": [],
   "source": [
    "# Question 11: Write a program that checks if a number is positive, negative, or zero.\n",
    "\n",
    "#Code: \n",
    "num = float(input(\"Enter a number: \"))\n",
    "\n",
    "if num > 0:\n",
    "    print(\"The number is positive.\")\n",
    "elif num < 0:\n",
    "    print(\"The number is negative.\")\n",
    "else:\n",
    "    print(\"The number is zero.\")"
   ]
  },
  {
   "cell_type": "code",
   "execution_count": null,
   "id": "38675e58-e42c-4b3e-a469-4d32eae287e5",
   "metadata": {},
   "outputs": [],
   "source": [
    "# Question 12: Write a for loop to print numbers from 1 to 10.\n",
    "\n",
    "#Code: \n",
    "for i in range(1, 11):\n",
    "    print(i)"
   ]
  },
  {
   "cell_type": "code",
   "execution_count": null,
   "id": "59f06703-f896-415c-b83a-1fad593eb954",
   "metadata": {},
   "outputs": [],
   "source": [
    "# Question 13: Write a Python program to find the sum of all even numbers between 1 and 50.\n",
    "\n",
    "#Code: \n",
    "even_sum = 0\n",
    "\n",
    "for num in range(1, 51):\n",
    "    if num % 2 == 0:\n",
    "        even_sum += num\n",
    "\n",
    "print(\"The sum of even numbers from 1 to 50 is:\", even_sum)"
   ]
  },
  {
   "cell_type": "code",
   "execution_count": null,
   "id": "9104d379-8593-454f-9131-f44d79805f71",
   "metadata": {},
   "outputs": [],
   "source": [
    "# Question 14: Write a program to reverse a string using a while loop.\n",
    "\n",
    "#Code: \n",
    "original_str = input(\"Enter a string: \")\n",
    "\n",
    "reversed_str = \"\"\n",
    "\n",
    "index = len(original_str) - 1\n",
    "\n",
    "while index >= 0:\n",
    "    reversed_str += original_str[index]\n",
    "    index -= 1\n",
    "\n",
    "print(\"Reversed string:\", reversed_str)"
   ]
  },
  {
   "cell_type": "code",
   "execution_count": null,
   "id": "4dc70487-65c5-4223-8b3c-05199731e3e8",
   "metadata": {},
   "outputs": [],
   "source": [
    "# Question 15: Write a Python program to calculate the factorial of a number provided by the user using a while loop.\n",
    "\n",
    "#Code: \n",
    "num = int(input(\"Enter a number: \"))\n",
    "\n",
    "factorial = 1\n",
    "i = 1\n",
    "\n",
    "if num < 0:\n",
    "    print(\"Factorial does not exist for negative numbers.\")\n",
    "else:\n",
    "    while i <= num:\n",
    "        factorial *= i\n",
    "        i += 1\n",
    "    print(\"The factorial of\", num, \"is:\", factorial)"
   ]
  }
 ],
 "metadata": {
  "kernelspec": {
   "display_name": "Python 3 (ipykernel)",
   "language": "python",
   "name": "python3"
  },
  "language_info": {
   "codemirror_mode": {
    "name": "ipython",
    "version": 3
   },
   "file_extension": ".py",
   "mimetype": "text/x-python",
   "name": "python",
   "nbconvert_exporter": "python",
   "pygments_lexer": "ipython3",
   "version": "3.12.6"
  }
 },
 "nbformat": 4,
 "nbformat_minor": 5
}
